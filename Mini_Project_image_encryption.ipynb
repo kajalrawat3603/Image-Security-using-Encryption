{
 "cells": [
  {
   "cell_type": "code",
   "execution_count": 2,
   "id": "18289b65",
   "metadata": {},
   "outputs": [
    {
     "name": "stdout",
     "output_type": "stream",
     "text": [
      "Requirement already satisfied: pycryptodome in c:\\users\\kajal\\anaconda3\\lib\\site-packages (3.17)\n"
     ]
    }
   ],
   "source": [
    "!pip install pycryptodome"
   ]
  },
  {
   "cell_type": "code",
   "execution_count": 16,
   "id": "db540586",
   "metadata": {},
   "outputs": [],
   "source": [
    "from Crypto.Cipher import AES"
   ]
  },
  {
   "cell_type": "code",
   "execution_count": 17,
   "id": "dbd0e288",
   "metadata": {},
   "outputs": [],
   "source": [
    "from Crypto.Util.Padding import pad,unpad"
   ]
  },
  {
   "cell_type": "markdown",
   "id": "daf2ec2b",
   "metadata": {},
   "source": [
    "# Selecting Image"
   ]
  },
  {
   "cell_type": "code",
   "execution_count": 27,
   "id": "388d9ad8",
   "metadata": {},
   "outputs": [],
   "source": [
    "def fileSelection():\n",
    "    path=filedialog.askopenfilename(title=\"Select File\",filetypes=[(\"Image Files\", \"*.jpg *.jpeg *.png *.bmp\")])\n",
    "    # To show the selected file name\n",
    "    file_path_label.config(text=path)\n",
    "    # To display the selected image\n",
    "    display_image(path)"
   ]
  },
  {
   "cell_type": "markdown",
   "id": "91319df7",
   "metadata": {},
   "source": [
    "# Encrypting Image"
   ]
  },
  {
   "cell_type": "code",
   "execution_count": 28,
   "id": "b2e58d8e",
   "metadata": {},
   "outputs": [],
   "source": [
    "def encryption():\n",
    "    #retriving key from entry blog of tkinter from 1.0(first row-first letter) to END(last row-last letter)\n",
    "    #encode()-encodes the string, using the specified encoding. If no encoding is specified, UTF-8 will be used.\n",
    "    key=entry.get(1.0,END).encode()\n",
    "    \n",
    "    #path of image file selected\n",
    "    path=file_path_label.cget(\"text\")\n",
    "    if not path:\n",
    "        messagebox.showerror(\"Error\",\"Image file Not Selected...\")\n",
    "        return\n",
    "    try:\n",
    "        #f=open(path,'rb')\n",
    "        with open(path, 'rb') as f:\n",
    "            img_data = f.read()\n",
    "        #img_data=f.read()\n",
    "        # Generate a random initialization vector (IV) of 16 bytes\n",
    "        ##The IV is required for AES encryption in CBC mode (Cipher Block Chaining)\n",
    "        iv = os.urandom(16)\n",
    "        #pad() function is used to ensure that the data is a multiple of the specified block size, which is AES.block_size\n",
    "        #by appending the required padding bytes. This is necessary because the AES encryption algorithm works on fixed-size blocks, and the input data needs to be properly aligned.\n",
    "        pad_img=pad(img_data,AES.block_size)\n",
    "        #The AES.MODE_CBC parameter specifies that the AES cipher should be used in Cipher Block Chaining mode.\n",
    "        cipher_obj=AES.new(key,AES.MODE_CBC,iv)\n",
    "        #encrypts the pad_img using the AES cipher and returns the encrypted data. \n",
    "        encrypt_img=cipher_obj.encrypt(pad_img)\n",
    "        replace=\"encryption_image.png\"\n",
    "        display_image(replace)\n",
    "        #re-write image data\n",
    "        f=open(path,'wb')\n",
    "        f.write(iv + encrypt_img)\n",
    "        messagebox.showerror(\"Done\",\"Successfully Encrypted Image...\")\n",
    "        \n",
    "    except Exception as e:\n",
    "        messagebox.showerror(\"Error\", str(e))"
   ]
  },
  {
   "cell_type": "markdown",
   "id": "d1663d0a",
   "metadata": {},
   "source": [
    "# Decrypting Image"
   ]
  },
  {
   "cell_type": "code",
   "execution_count": 29,
   "id": "7ea84d82",
   "metadata": {},
   "outputs": [],
   "source": [
    "def decryption():\n",
    "    key=entry.get(1.0,END).encode()\n",
    "    path=file_path_label.cget(\"text\")\n",
    "    if not path:\n",
    "        messagebox.showerror(\"ERROR\",\"Select file\")\n",
    "        return\n",
    "    try:\n",
    "        with open(path, 'rb') as f:\n",
    "            encrypted_data=f.read()\n",
    "        iv=encrypted_data[:AES.block_size]\n",
    "        cipher_obj=AES.new(key,AES.MODE_CBC,iv)\n",
    "        pad_img=cipher_obj.decrypt(encrypted_data[16:])\n",
    "        img_data=unpad(pad_img,AES.block_size)\n",
    "        with open(path, 'wb') as f:\n",
    "            f.write(img_data)\n",
    "        messagebox.showerror(\"Done\",\"Successfully Decrypted Image...\")\n",
    "        display_image(path)\n",
    "    except Exception as e:\n",
    "        messagebox.showerror(\"Error\",str(e))"
   ]
  },
  {
   "cell_type": "code",
   "execution_count": 30,
   "id": "8127ae16",
   "metadata": {},
   "outputs": [
    {
     "name": "stdout",
     "output_type": "stream",
     "text": [
      "Requirement already satisfied: pillow in c:\\users\\kajal\\anaconda3\\lib\\site-packages (9.4.0)\n"
     ]
    }
   ],
   "source": [
    "!pip install pillow"
   ]
  },
  {
   "cell_type": "markdown",
   "id": "46afbfcd",
   "metadata": {},
   "source": [
    "#key=F$9Lp#s7Z@2q123"
   ]
  },
  {
   "cell_type": "code",
   "execution_count": 31,
   "id": "be0044d0",
   "metadata": {},
   "outputs": [],
   "source": [
    "from tkinter import filedialog, messagebox, Tk\n",
    "from PIL import Image,ImageTk\n",
    "from tkinter import *"
   ]
  },
  {
   "cell_type": "code",
   "execution_count": 32,
   "id": "21fc52ec",
   "metadata": {},
   "outputs": [],
   "source": [
    "def display_encrypted_image(image_path):\n",
    "    global image_label\n",
    "    # Clear the previously displayed image, if any\n",
    "    if image_label is not None:\n",
    "        image_label.destroy()\n",
    "    # Load the encrypted image\n",
    "    image = Image.open(image_path)\n",
    "    \n",
    "    # Convert the image to grayscale\n",
    "    grayscale_image = image.convert(\"L\")\n",
    "    \n",
    "    # Apply a blur filter to the image\n",
    "    blurred_image = grayscale_image.filter(ImageFilter.GaussianBlur(radius=10))\n",
    "    \n",
    "    # Create a Tkinter PhotoImage object from the blurred image\n",
    "    photo = ImageTk.PhotoImage(blurred_image)\n",
    "    \n",
    "    # Create a label to display the encrypted image\n",
    "    image_label.config(image=photo)\n",
    "    image_label.image = photo\n",
    "    image_label.pack()"
   ]
  },
  {
   "cell_type": "markdown",
   "id": "993b7820",
   "metadata": {},
   "source": [
    "# Showing Selected Image"
   ]
  },
  {
   "cell_type": "code",
   "execution_count": 33,
   "id": "9a4f5ad9",
   "metadata": {},
   "outputs": [],
   "source": [
    "from PIL import Image,ImageTk\n",
    "def display_image(image_path):\n",
    "    global image_label  # Declare image_label as a global variable\n",
    "\n",
    "    # Clear the previously displayed image, if any\n",
    "    if image_label is not None:\n",
    "        image_label.destroy()\n",
    "\n",
    "    # Load the image from the given path\n",
    "    image = Image.open(image_path)\n",
    "    image = image.resize((300, 300))  # Resize the image as desired\n",
    "\n",
    "    # Create a Tkinter PhotoImage object from the PIL image\n",
    "    photo = ImageTk.PhotoImage(image)\n",
    "\n",
    "    image_label = Label(root, image=photo,borderwidth=2, relief=\"solid\", highlightthickness=1, highlightbackground=\"black\")\n",
    "    image_label.image = photo  # Store a reference to the image to prevent garbage collection\n",
    "    image_label.pack()"
   ]
  },
  {
   "cell_type": "markdown",
   "id": "4691df92",
   "metadata": {},
   "source": [
    "# GUI"
   ]
  },
  {
   "cell_type": "code",
   "execution_count": 34,
   "id": "ececc80e",
   "metadata": {},
   "outputs": [],
   "source": [
    "root = Tk()\n",
    "# Set the window dimensions\n",
    "root.geometry(\"400x300\") \n",
    "# Set the background color\n",
    "root.configure(background=\"gray\")\n",
    "# Set the title \n",
    "root.title(\"Image Encryption and Decryption\")\n",
    "\n",
    "# Create a frame to hold the encryption and decryption buttons\n",
    "button_frame = Frame(root)\n",
    "button_frame.configure(background=\"gray\")\n",
    "button_frame.pack(pady=10)\n",
    "\n",
    "# Button for encryption\n",
    "b2 = Button(button_frame, text=\"Encryption\", command=encryption)\n",
    "b2.pack(side=\"left\", padx=5)\n",
    "\n",
    "# Button for decryption\n",
    "b1 = Button(button_frame, text=\"Decryption\", command=decryption)\n",
    "b1.pack(side=\"left\", padx=5)\n",
    "\n",
    "# Entry for input\n",
    "entry = Text(root, height=2, width=20)\n",
    "entry.pack(pady=10)\n",
    "\n",
    "# Button to select an image file\n",
    "select_file_button = Button(root, text=\"Select Image File\", command=fileSelection)\n",
    "select_file_button.pack(pady=10)\n",
    "\n",
    "#image label\n",
    "transparent_image = ImageTk.PhotoImage(Image.new(\"RGBA\", (300, 300), (0, 0, 0, 0)))\n",
    "image_label = Label(root, image=transparent_image, borderwidth=2, relief=\"solid\", highlightthickness=1, highlightbackground=\"black\")\n",
    "image_label.pack(pady=10)\n",
    "\n",
    "# Label for file path\n",
    "file_path_label = Label(root, text=\"\",bg=\"gray\")\n",
    "file_path_label.pack(pady=10)\n",
    "\n",
    "# for Center all widgets in the window\n",
    "root.update_idletasks()\n",
    "window_width = root.winfo_width()\n",
    "window_height = root.winfo_height()\n",
    "screen_width = root.winfo_screenwidth()\n",
    "screen_height = root.winfo_screenheight()\n",
    "x = (screen_width - window_width) // 2\n",
    "y = (screen_height - window_height) // 2\n",
    "root.geometry(f\"+{x}+{y}\")\n",
    "\n",
    "root.mainloop()\n"
   ]
  },
  {
   "cell_type": "code",
   "execution_count": null,
   "id": "f73281d3",
   "metadata": {},
   "outputs": [],
   "source": []
  },
  {
   "cell_type": "code",
   "execution_count": null,
   "id": "70c7e03f",
   "metadata": {},
   "outputs": [],
   "source": []
  },
  {
   "cell_type": "code",
   "execution_count": null,
   "id": "1abfd25d",
   "metadata": {},
   "outputs": [],
   "source": []
  }
 ],
 "metadata": {
  "kernelspec": {
   "display_name": "Python 3 (ipykernel)",
   "language": "python",
   "name": "python3"
  },
  "language_info": {
   "codemirror_mode": {
    "name": "ipython",
    "version": 3
   },
   "file_extension": ".py",
   "mimetype": "text/x-python",
   "name": "python",
   "nbconvert_exporter": "python",
   "pygments_lexer": "ipython3",
   "version": "3.10.9"
  }
 },
 "nbformat": 4,
 "nbformat_minor": 5
}
